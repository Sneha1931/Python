{
 "cells": [
  {
   "cell_type": "markdown",
   "id": "ed7fa6a5-e610-4894-b27a-0159ee6c361d",
   "metadata": {},
   "source": [
    "CALCULATOR\n"
   ]
  },
  {
   "cell_type": "code",
   "execution_count": 14,
   "id": "38218cab-b3db-4ca6-99b1-725ee75b1efd",
   "metadata": {},
   "outputs": [
    {
     "name": "stdin",
     "output_type": "stream",
     "text": [
      "enter the value of a: 4\n",
      "enter the value of b: 2\n"
     ]
    },
    {
     "name": "stdout",
     "output_type": "stream",
     "text": [
      "addition: 6\n",
      "subtraction: 2\n",
      "multiplication: 8\n",
      "division: 2.0\n"
     ]
    }
   ],
   "source": [
    "a=int(input(\"enter the value of a:\"))\n",
    "b=int(input(\"enter the value of b:\"))\n",
    "print(\"addition:\",a+b)\n",
    "print(\"subtraction:\",a-b)\n",
    "print(\"multiplication:\",a*b)\n",
    "print(\"division:\",a/b)\n",
    "\n"
   ]
  },
  {
   "cell_type": "code",
   "execution_count": null,
   "id": "e916912c-61f6-4ef3-9502-2da5d305f2f4",
   "metadata": {},
   "outputs": [],
   "source": []
  }
 ],
 "metadata": {
  "kernelspec": {
   "display_name": "Python 3 (ipykernel)",
   "language": "python",
   "name": "python3"
  },
  "language_info": {
   "codemirror_mode": {
    "name": "ipython",
    "version": 3
   },
   "file_extension": ".py",
   "mimetype": "text/x-python",
   "name": "python",
   "nbconvert_exporter": "python",
   "pygments_lexer": "ipython3",
   "version": "3.11.7"
  }
 },
 "nbformat": 4,
 "nbformat_minor": 5
}
